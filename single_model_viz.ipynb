{
 "cells": [
  {
   "cell_type": "code",
   "execution_count": 1,
   "id": "fbd850b0-5787-4adc-9b70-f3d3a13f05cd",
   "metadata": {},
   "outputs": [],
   "source": [
    "import pandas as pd\n",
    "import numpy as np\n",
    "import datetime\n",
    "from scorepi import *\n",
    "from epiweeks import Week\n",
    "pd.options.mode.chained_assignment = None  # default='warn'"
   ]
  },
  {
   "cell_type": "markdown",
   "id": "cf698324-df7d-4320-a619-3d1cbaefee04",
   "metadata": {},
   "source": [
    "## Configurations"
   ]
  },
  {
   "cell_type": "code",
   "execution_count": 2,
   "id": "216f951c-fcf6-4b7b-8b92-16c8859ada51",
   "metadata": {},
   "outputs": [],
   "source": [
    "rd = 5\n",
    "start_week = Week(2021,18)\n",
    "end_week = Week(2021,43)\n",
    "max_date = datetime.datetime(2021, 6, 23)\n",
    "models = [\"Ensemble\",\"Ensemble_LOP\",\"IHME-IHME_COVID_model_deaths_unscaled\",\"JHUAPL-Bucky\",\"JHU_IDD-CovidSP\",\"Karlen-pypm\",\n",
    "          \"MOBS_NEU-GLEAM_COVID\",\"UNCC-hierbin\",\"USC-SIkJalpha\",\"UVA-adaptive\"]\n",
    "# model = \"Ensemble\"\n",
    "model = \"MOBS_NEU-GLEAM_COVID\""
   ]
  },
  {
   "cell_type": "code",
   "execution_count": 3,
   "id": "cdae9943-d0dc-4685-bf92-43bca3810f57",
   "metadata": {},
   "outputs": [],
   "source": [
    "# rd = 12\n",
    "# start_week = Week(2022,2)\n",
    "# end_week = Week(2022,13)\n",
    "# max_date = datetime.datetime(2022, 3, 15) #variant\n",
    "# models = [\"Ensemble\",\"Ensemble_LOP\",\"Ensemble_LOP_untrimmed\",\"JHU_IDD-CovidSP\",\"MOBS_NEU-GLEAM_COVID\",\"NCSU-COVSIM\",\"NotreDame-FRED\",\"UNCC-hierbin\",\"USC-SIkJalpha\",\n",
    "#           \"UTA-ImmunoSEIRS\",\"UVA-EpiHiper\",\"UVA-adaptive\"]\n",
    "# model = models[4]"
   ]
  },
  {
   "cell_type": "code",
   "execution_count": 4,
   "id": "31400e73-f2e6-44b1-a47c-874554e5eca0",
   "metadata": {},
   "outputs": [],
   "source": [
    "# rd = 14\n",
    "# start_week = Week(2022,23)\n",
    "# end_week = Week(2023,22)\n",
    "# max_date = None\n",
    "# models = [\"Ensemble\",\"Ensemble_LOP\",\"Ensemble_LOP_untrimmed\",\"JHU_IDD-CovidSP\",\"MOBS_NEU-GLEAM_COVID\",\"MOBS_NEU-GLEAM_COVID_OT\",\"NCSU-COVSIM\",\n",
    "#           \"UNCC-hierbin\",\"USC-SIkJalpha\",\"USC-SIkJalpha-update\",\"UTA-ImmunoSEIRS\",\"UVA-adaptive\"]\n",
    "# model = \"MOBS_NEU-GLEAM_COVID\"\n",
    "# # model = \"Ensemble\""
   ]
  },
  {
   "cell_type": "code",
   "execution_count": 25,
   "id": "1810f134-ee4d-4f48-8c53-78063c3830e5",
   "metadata": {},
   "outputs": [],
   "source": [
    "# target = 'death'\n",
    "target = 'death'\n",
    "incidence = True\n",
    "target_location = '37'\n",
    "\n",
    "locations = pd.read_csv('./dat/locations.csv',dtype={'location':str})\n",
    "location_mapping = dict()\n",
    "for loc in locations['location']:\n",
    "    location_mapping[loc] = locations[locations['location'] == loc]['abbreviation'].unique()[0]"
   ]
  },
  {
   "cell_type": "markdown",
   "id": "d951d06d-40c7-4a2f-b12f-45186a6934a1",
   "metadata": {},
   "source": [
    "## Load and format surveillance data"
   ]
  },
  {
   "cell_type": "code",
   "execution_count": 26,
   "id": "4bbf91d6-8fd7-4fe5-ba3d-9525682d9c5e",
   "metadata": {},
   "outputs": [
    {
     "name": "stderr",
     "output_type": "stream",
     "text": [
      "/var/folders/1k/msfckb6d40q9g5y9b70y58hr0000gn/T/ipykernel_34791/530478477.py:16: FutureWarning: The default value of numeric_only in DataFrameGroupBy.sum is deprecated. In a future version, numeric_only will default to False. Either specify numeric_only or select only columns which should be valid for the function.\n",
      "  observations = observations.groupby(['location', pd.Grouper(key='date', freq='W-SAT')]).sum().reset_index()\n"
     ]
    }
   ],
   "source": [
    "if target == 'hosp':\n",
    "    target_obs = 'hospitalization'\n",
    "else:\n",
    "    target_obs = target\n",
    "observations = pd.read_parquet(f\"./dat/truth_{'inc' if incidence else 'cum'}_{target_obs}.pq\")\n",
    "observations['date'] = pd.to_datetime(observations['date'])\n",
    "\n",
    "#filter start - end week\n",
    "observations = observations[(observations['date'] >= pd.to_datetime(start_week.startdate())) & \n",
    "                            (observations['date'] <= pd.to_datetime(end_week.enddate()))]\n",
    "\n",
    "#filter location\n",
    "observations = observations[observations['location'] == target_location]\n",
    "\n",
    "#aggregate to weekly\n",
    "observations = observations.groupby(['location', pd.Grouper(key='date', freq='W-SAT')]).sum().reset_index()\n",
    "\n",
    "if max_date:\n",
    "    observations = observations[observations['date'] <= max_date].copy()\n",
    "\n",
    "#transform to Observation object\n",
    "observations = Observations(observations)"
   ]
  },
  {
   "cell_type": "markdown",
   "id": "ad3cacce-9aac-4f58-a9fb-ca76611790d1",
   "metadata": {},
   "source": [
    "## Load and filter a single model"
   ]
  },
  {
   "cell_type": "code",
   "execution_count": 27,
   "id": "d8995be3-958b-40d4-852f-d75a242b79a9",
   "metadata": {},
   "outputs": [],
   "source": [
    "target_prediction_list = [f\"{i} wk ahead {'inc' if incidence else 'cum'} {target}\" \n",
    "                          for i in range(1,len(observations)+1)]"
   ]
  },
  {
   "cell_type": "code",
   "execution_count": 28,
   "id": "2a477f48-5230-4ce5-abef-a1a26a83fed6",
   "metadata": {},
   "outputs": [],
   "source": [
    "predictions = pd.read_parquet(f'./dat/{model}_rd{rd}.pq')\n",
    "predictions['target_end_date'] = pd.to_datetime(predictions['target_end_date'])\n",
    "predictions = predictions.merge(locations, how='inner', on='location')"
   ]
  },
  {
   "cell_type": "code",
   "execution_count": 29,
   "id": "10ff9567-4303-4a71-b3d7-2075c31dfe79",
   "metadata": {},
   "outputs": [],
   "source": [
    "\n",
    "#choose location\n",
    "pred = predictions[predictions['location'] == target_location].copy()   \n",
    "\n",
    "#filter target\n",
    "pred = pred[(pred['target'].isin(target_prediction_list))]\n",
    "\n",
    "#filter max date\n",
    "if max_date:\n",
    "    pred = pred[pred['target_end_date'] <= max_date]\n",
    "    \n",
    "if len(pred) == 0:\n",
    "    raise RuntimeError(f\"There are no predictions for model {model} at location {target_location}\")"
   ]
  },
  {
   "cell_type": "markdown",
   "id": "5dba5c9d-505a-4dd0-ae1e-59de988c110e",
   "metadata": {},
   "source": [
    "Split by scenarios"
   ]
  },
  {
   "cell_type": "code",
   "execution_count": 30,
   "id": "e0a6183f-e887-4726-a669-1e04404234d0",
   "metadata": {},
   "outputs": [
    {
     "name": "stderr",
     "output_type": "stream",
     "text": [
      "/Users/clara/Documents/GitHub/scorepi/scorepi/ensemble_models.py:32: FutureWarning: The default value of numeric_only in DataFrameGroupBy.median is deprecated. In a future version, numeric_only will default to False. Either specify numeric_only or select only columns which should be valid for the function.\n",
      "  ensemble_predictions = all_predictions.groupby(\n",
      "/Users/clara/Documents/GitHub/scorepi/scorepi/ensemble_models.py:63: FutureWarning: The default value of numeric_only in DataFrameGroupBy.median is deprecated. In a future version, numeric_only will default to False. Either specify numeric_only or select only columns which should be valid for the function.\n",
      "  ensemble_predictions_med = all_predictions[np.isclose(all_predictions[quantile_col],0.5)].groupby(\n",
      "/Users/clara/Documents/GitHub/scorepi/scorepi/ensemble_models.py:65: FutureWarning: The default value of numeric_only in DataFrameGroupBy.median is deprecated. In a future version, numeric_only will default to False. Either specify numeric_only or select only columns which should be valid for the function.\n",
      "  ensemble_predictions_point = all_predictions[all_predictions[type_col] == 'point'].groupby(\n"
     ]
    }
   ],
   "source": [
    "scenarios = list(pred['scenario_id'].drop_duplicates())\n",
    "predictions_list = [Predictions(pred[pred['scenario_id'] == scenario], t_col='target_end_date') for scenario in scenarios]\n",
    "med_ensemble_predictions = median_ensemble(predictions_list)\n",
    "ex_ensemble_predictions = extreme_ensemble(predictions_list)\n",
    "predictions_list += [med_ensemble_predictions, ex_ensemble_predictions]\n",
    "labels = [\"Scenario \" + scenario[0] for scenario in sorted(scenarios)] + [\"Median aggregate\", \"Extreme aggregate\"]\n",
    "# print(labels)"
   ]
  },
  {
   "cell_type": "markdown",
   "id": "725dfb88-a160-4042-8500-7bf91c942472",
   "metadata": {},
   "source": [
    "## Plot"
   ]
  },
  {
   "cell_type": "code",
   "execution_count": 31,
   "id": "b9bff4d1-fc34-4630-9ecc-a66d089502bc",
   "metadata": {},
   "outputs": [],
   "source": [
    "import matplotlib.pyplot as plt\n",
    "import matplotlib.dates as mdates\n",
    "from pathlib import Path\n",
    "#intervals to show\n",
    "intervals = [(0.01,0.99),(0.05,0.95),(0.25,0.75)]\n",
    "map_alpha = lambda interval_range: 0.5 * (1-interval_range) + 0.1\n",
    "\n",
    "def set_date_axis_fmt(ax):\n",
    "    # Set the locator\n",
    "    locator = mdates.MonthLocator()  # every month\n",
    "    # Specify the format\n",
    "    fmt = mdates.DateFormatter('%b %y')\n",
    "\n",
    "    X = ax.xaxis\n",
    "    X.set_major_locator(locator)\n",
    "    # Specify formatter\n",
    "    X.set_major_formatter(fmt)"
   ]
  },
  {
   "cell_type": "code",
   "execution_count": 32,
   "id": "41a44140-da4e-4928-b882-759b686a6fcc",
   "metadata": {},
   "outputs": [],
   "source": [
    "fontsize=14\n",
    "plt.style.use('seaborn-paper')\n",
    "plt.rc('text', usetex=True)\n",
    "plt.rc('text.latex', preamble=r'\\usepackage{lmodern}\\usepackage{sfmath}')\n",
    "plt.rc('xtick', labelsize=fontsize)\n",
    "plt.rc('ytick', labelsize=fontsize)\n",
    "plt.rc('axes', labelsize=fontsize)\n",
    "color = '#17B1BF'"
   ]
  },
  {
   "cell_type": "markdown",
   "id": "0c1184db-296d-4037-91c1-189ab44203b2",
   "metadata": {},
   "source": [
    "### Scenarios"
   ]
  },
  {
   "cell_type": "code",
   "execution_count": 33,
   "id": "167c9104-8fdf-472f-8b3d-41719c7f52c0",
   "metadata": {},
   "outputs": [],
   "source": [
    "target_loc_name = location_mapping[target_location]"
   ]
  },
  {
   "cell_type": "code",
   "execution_count": 34,
   "id": "ae724efe-bce1-4179-a3e2-471635f6f110",
   "metadata": {},
   "outputs": [
    {
     "data": {
      "image/png": "[encoded data removed]",
      "text/plain": [
       "<Figure size 1016.21x406.483 with 6 Axes>"
      ]
     },
     "metadata": {
      "needs_background": "light"
     },
     "output_type": "display_data"
    }
   ],
   "source": [
    "width = 7.057*2.\n",
    "height = width/2.5\n",
    "fig, axes = plt.subplots(2,3, figsize=(width, height), sharey=True)\n",
    "plt.subplots_adjust(left=0.07, bottom=0.08, right=0.99, top=0.85, wspace=0.1,\n",
    "                    hspace=0.4)\n",
    "fig.suptitle(r\"\\textbf\"+\"{\"+f\"{model}, Round {rd}, target = {target_obs}, location = {target_loc_name}\"+\"}\", fontsize=fontsize+4)\n",
    "for ind,(predictions,label) in enumerate(zip(predictions_list,labels)):\n",
    "    i = ind // 3\n",
    "    j = ind % 3\n",
    "    \n",
    "    #title\n",
    "    axes[i][j].set_title(r\"\\textbf\"+\"{\"+f\"{label}\"+\"}\", fontsize=fontsize, color='#636363')\n",
    "\n",
    "    t = np.unique(predictions.get_t())\n",
    "\n",
    "    #intervals\n",
    "    for interval in intervals:\n",
    "        q_low,q_upp = interval\n",
    "        interval_range = q_upp - q_low\n",
    "        alpha = map_alpha(interval_range)\n",
    "        pred_low = predictions.get_quantile(q_low)\n",
    "        pred_upp = predictions.get_quantile(q_upp)\n",
    "        axes[i][j].fill_between(t,pred_upp,pred_low, color=color, alpha=alpha,\n",
    "                               label=fr\"PI {int(round(interval_range*100))} \\%\")\n",
    "    if i == 0 and j == 0:\n",
    "        axes[i][j].legend(frameon=True, fontsize=fontsize)\n",
    "\n",
    "    #point estimate\n",
    "    pred_point = predictions.get_point()\n",
    "    if len(pred_point) > 0:\n",
    "        axes[i][j].plot(t,pred_point,'-o',color=color)\n",
    "    \n",
    "    #plot surveillance\n",
    "    axes[i][j].plot(observations.get_t(),observations.get_value(), '-o', color='#1a1a1a')\n",
    "    \n",
    "    #set x axis\n",
    "    set_date_axis_fmt(axes[i][j])\n",
    "    \n",
    "\n",
    "    #set y axis \n",
    "    axes[i][0].set_ylabel(f\"Weekly {'incident' if incidence else 'cumulative'} {target}\")\n",
    "    \n",
    "    \n",
    "path = f\"./figs/rd{rd}/{'inc' if incidence else 'cum'}_{target}/{target_loc_name}/\"\n",
    "Path(path).mkdir(parents=True, exist_ok=True)\n",
    "\n",
    "plt.savefig(path+f\"{model}.pdf\")"
   ]
  },
  {
   "cell_type": "markdown",
   "id": "025fc12c-f523-4ed8-b561-3bda77d80338",
   "metadata": {
    "tags": []
   },
   "source": [
    "## Calculate scores"
   ]
  },
  {
   "cell_type": "code",
   "execution_count": 35,
   "id": "b1d74f64-15fd-4801-8bb1-ba9def779406",
   "metadata": {},
   "outputs": [],
   "source": [
    "from collections import defaultdict"
   ]
  },
  {
   "cell_type": "code",
   "execution_count": 36,
   "id": "91311f1a-14aa-416e-bbda-dd77009dfbe2",
   "metadata": {},
   "outputs": [],
   "source": [
    "timestamped_scores = dict()\n",
    "aggregated_scores = dict()\n",
    "for label,predictions in zip(labels,predictions_list):\n",
    "    d,df = score_utils.all_scores_from_df(observations, predictions, mismatched_allowed=False)\n",
    "    timestamped_scores[label] = df\n",
    "    aggregated_scores[label] = d"
   ]
  },
  {
   "cell_type": "code",
   "execution_count": 37,
   "id": "d0a72a52-c368-4d41-9b87-a8331fe8c459",
   "metadata": {},
   "outputs": [],
   "source": [
    "aggregated_data = defaultdict(list)\n",
    "for label in labels:\n",
    "    aggregated_data['Case'] += [label]\n",
    "    aggregated_data['95% PI Coverage'] += [aggregated_scores[label]['95_cov']]\n",
    "    aggregated_data['50% PI Coverage'] += [aggregated_scores[label]['50_cov']]\n",
    "    aggregated_data['WIS'] += [aggregated_scores[label]['wis_mean']]\n",
    "    aggregated_data['MAE'] += [aggregated_scores[label]['point_absolute_error_mean']]\n",
    "    aggregated_data['WIS dispersion %'] += [100*aggregated_scores[label]['dispersion_wis_fraction']]\n",
    "    aggregated_data['WIS underprediction %'] += [100*aggregated_scores[label]['underprediction_wis_fraction']]\n",
    "    aggregated_data['WIS overprediction %'] += [100*aggregated_scores[label]['overprediction_wis_fraction']]"
   ]
  },
  {
   "cell_type": "code",
   "execution_count": 38,
   "id": "a2672531-1dda-413e-b5d1-1c54b72c97ab",
   "metadata": {},
   "outputs": [
    {
     "data": {
      "text/html": [
       "<div>\n",
       "<style scoped>\n",
       "    .dataframe tbody tr th:only-of-type {\n",
       "        vertical-align: middle;\n",
       "    }\n",
       "\n",
       "    .dataframe tbody tr th {\n",
       "        vertical-align: top;\n",
       "    }\n",
       "\n",
       "    .dataframe thead th {\n",
       "        text-align: right;\n",
       "    }\n",
       "</style>\n",
       "<table border=\"1\" class=\"dataframe\">\n",
       "  <thead>\n",
       "    <tr style=\"text-align: right;\">\n",
       "      <th></th>\n",
       "      <th>Case</th>\n",
       "      <th>95% PI Coverage</th>\n",
       "      <th>50% PI Coverage</th>\n",
       "      <th>WIS</th>\n",
       "      <th>MAE</th>\n",
       "      <th>WIS dispersion %</th>\n",
       "      <th>WIS underprediction %</th>\n",
       "      <th>WIS overprediction %</th>\n",
       "      <th>Model</th>\n",
       "    </tr>\n",
       "  </thead>\n",
       "  <tbody>\n",
       "    <tr>\n",
       "      <th>0</th>\n",
       "      <td>Scenario A</td>\n",
       "      <td>1.0</td>\n",
       "      <td>0.571429</td>\n",
       "      <td>18.215538</td>\n",
       "      <td>32.573141</td>\n",
       "      <td>44.734955</td>\n",
       "      <td>0.000000</td>\n",
       "      <td>55.265045</td>\n",
       "      <td>MOBS_NEU-GLEAM_COVID</td>\n",
       "    </tr>\n",
       "    <tr>\n",
       "      <th>1</th>\n",
       "      <td>Scenario B</td>\n",
       "      <td>1.0</td>\n",
       "      <td>0.571429</td>\n",
       "      <td>15.009278</td>\n",
       "      <td>24.383154</td>\n",
       "      <td>55.025952</td>\n",
       "      <td>0.031020</td>\n",
       "      <td>44.943027</td>\n",
       "      <td>MOBS_NEU-GLEAM_COVID</td>\n",
       "    </tr>\n",
       "    <tr>\n",
       "      <th>2</th>\n",
       "      <td>Scenario C</td>\n",
       "      <td>1.0</td>\n",
       "      <td>0.571429</td>\n",
       "      <td>14.799106</td>\n",
       "      <td>23.021228</td>\n",
       "      <td>57.970905</td>\n",
       "      <td>0.126957</td>\n",
       "      <td>41.902138</td>\n",
       "      <td>MOBS_NEU-GLEAM_COVID</td>\n",
       "    </tr>\n",
       "    <tr>\n",
       "      <th>3</th>\n",
       "      <td>Scenario D</td>\n",
       "      <td>1.0</td>\n",
       "      <td>0.714286</td>\n",
       "      <td>15.632113</td>\n",
       "      <td>21.624586</td>\n",
       "      <td>67.677785</td>\n",
       "      <td>0.043768</td>\n",
       "      <td>32.278447</td>\n",
       "      <td>MOBS_NEU-GLEAM_COVID</td>\n",
       "    </tr>\n",
       "    <tr>\n",
       "      <th>4</th>\n",
       "      <td>Median aggregate</td>\n",
       "      <td>1.0</td>\n",
       "      <td>0.571429</td>\n",
       "      <td>15.349953</td>\n",
       "      <td>23.850927</td>\n",
       "      <td>57.592853</td>\n",
       "      <td>0.037452</td>\n",
       "      <td>42.369695</td>\n",
       "      <td>MOBS_NEU-GLEAM_COVID</td>\n",
       "    </tr>\n",
       "    <tr>\n",
       "      <th>5</th>\n",
       "      <td>Extreme aggregate</td>\n",
       "      <td>1.0</td>\n",
       "      <td>0.714286</td>\n",
       "      <td>16.583748</td>\n",
       "      <td>23.850927</td>\n",
       "      <td>69.164799</td>\n",
       "      <td>0.034666</td>\n",
       "      <td>30.800535</td>\n",
       "      <td>MOBS_NEU-GLEAM_COVID</td>\n",
       "    </tr>\n",
       "  </tbody>\n",
       "</table>\n",
       "</div>"
      ],
      "text/plain": [
       "                Case  95% PI Coverage  50% PI Coverage        WIS        MAE  \\\n",
       "0         Scenario A              1.0         0.571429  18.215538  32.573141   \n",
       "1         Scenario B              1.0         0.571429  15.009278  24.383154   \n",
       "2         Scenario C              1.0         0.571429  14.799106  23.021228   \n",
       "3         Scenario D              1.0         0.714286  15.632113  21.624586   \n",
       "4   Median aggregate              1.0         0.571429  15.349953  23.850927   \n",
       "5  Extreme aggregate              1.0         0.714286  16.583748  23.850927   \n",
       "\n",
       "   WIS dispersion %  WIS underprediction %  WIS overprediction %  \\\n",
       "0         44.734955               0.000000             55.265045   \n",
       "1         55.025952               0.031020             44.943027   \n",
       "2         57.970905               0.126957             41.902138   \n",
       "3         67.677785               0.043768             32.278447   \n",
       "4         57.592853               0.037452             42.369695   \n",
       "5         69.164799               0.034666             30.800535   \n",
       "\n",
       "                  Model  \n",
       "0  MOBS_NEU-GLEAM_COVID  \n",
       "1  MOBS_NEU-GLEAM_COVID  \n",
       "2  MOBS_NEU-GLEAM_COVID  \n",
       "3  MOBS_NEU-GLEAM_COVID  \n",
       "4  MOBS_NEU-GLEAM_COVID  \n",
       "5  MOBS_NEU-GLEAM_COVID  "
      ]
     },
     "execution_count": 38,
     "metadata": {},
     "output_type": "execute_result"
    }
   ],
   "source": [
    "agg_data_df = pd.DataFrame(aggregated_data)\n",
    "agg_data_df['Model'] = model\n",
    "agg_data_df"
   ]
  },
  {
   "cell_type": "code",
   "execution_count": null,
   "id": "7d17873f",
   "metadata": {},
   "outputs": [],
   "source": []
  }
 ],
 "metadata": {
  "kernelspec": {
   "display_name": "Python 3 (ipykernel)",
   "language": "python",
   "name": "python3"
  },
  "language_info": {
   "codemirror_mode": {
    "name": "ipython",
    "version": 3
   },
   "file_extension": ".py",
   "mimetype": "text/x-python",
   "name": "python",
   "nbconvert_exporter": "python",
   "pygments_lexer": "ipython3",
   "version": "3.9.7"
  }
 },
 "nbformat": 4,
 "nbformat_minor": 5
}
