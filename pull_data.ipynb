{
 "cells": [
  {
   "cell_type": "markdown",
   "id": "98d5c688-641a-435d-b517-a9062e4d0609",
   "metadata": {},
   "source": [
    "# Pull data"
   ]
  },
  {
   "cell_type": "code",
   "execution_count": 1,
   "id": "c8854cf6-4760-473f-a00b-3d620d7e812b",
   "metadata": {},
   "outputs": [],
   "source": [
    "import requests\n",
    "import numpy as np\n",
    "import pandas as pd\n",
    "from epiweeks import Week\n",
    "from datetime import date, timedelta\n",
    "import os"
   ]
  },
  {
   "cell_type": "code",
   "execution_count": 2,
   "id": "41a0db4a-693f-40f3-a77b-a314d834e0a0",
   "metadata": {},
   "outputs": [],
   "source": [
    "def pull_scenario_modeling_hub_predictions(model,dates):\n",
    "    \"\"\"pull_scenario_modeling_hub_predictions. Load predictions of the model saved by the scenario modeling\n",
    "    hub.\n",
    "\n",
    "    Parameters\n",
    "    ----------\n",
    "    model : str\n",
    "        Model name on thhe\n",
    "    dates : list or string\n",
    "        List of potential dates in the iso format, e.g., 'yyyy-mm-dd', for the submission.\n",
    "    \"\"\"\n",
    "    predictions = None\n",
    "    if isinstance(dates,str):\n",
    "        dates = [dates]\n",
    "    for date in dates:\n",
    "        url = f\"https://raw.githubusercontent.com/midas-network/covid19-scenario-modeling-hub/master/data-processed/{model}/{date}-{model}\"\n",
    "        for ext in [\".csv\",\".gz\",\".zip\",\".csv.zip\",\".csv.gz\"]:\n",
    "            try:\n",
    "                predictions = pd.read_csv(url+ext,dtype={'location':str},parse_dates=['target_end_date'])\n",
    "            except:\n",
    "                pass\n",
    "    if predictions is None:\n",
    "        print(f\"Data for model {model} and date {dates} unavailable\")\n",
    "    return predictions\n",
    "\n",
    "\n",
    "def pull_surveillance_data(target='death',incidence=True):\n",
    "    mapping = {'death':'Deaths', 'case':'Cases', 'hospitalization': 'Hospitalizations'}\n",
    "    if incidence:\n",
    "        s = 'Incident'\n",
    "    else:\n",
    "        s = 'Cumulative'\n",
    "    url = f\"https://media.githubusercontent.com/media/reichlab/covid19-forecast-hub/master/data-truth/truth-{s}%20{mapping[target]}.csv\"\n",
    "    return pd.read_csv(url, dtype={'location':str})"
   ]
  },
  {
   "cell_type": "markdown",
   "id": "cbceae3e-6846-4e40-ba0f-561f8eb5f112",
   "metadata": {},
   "source": [
    "## Surveillance data"
   ]
  },
  {
   "cell_type": "code",
   "execution_count": 3,
   "id": "96ae589e-cc09-455f-b897-c0a1dad06adb",
   "metadata": {},
   "outputs": [],
   "source": [
    "target = 'hospitalization'\n",
    "#target = 'death'\n",
    "#target = 'case'\n",
    "incidence = True"
   ]
  },
  {
   "cell_type": "code",
   "execution_count": 4,
   "id": "566a1bcd-716f-4101-b744-cf7163aab782",
   "metadata": {},
   "outputs": [],
   "source": [
    "observations = pull_surveillance_data(target,incidence)"
   ]
  },
  {
   "cell_type": "code",
   "execution_count": 5,
   "id": "c5499b17-4920-4ecb-a23b-8c1255b610ae",
   "metadata": {},
   "outputs": [
    {
     "data": {
      "text/html": [
       "<div>\n",
       "<style scoped>\n",
       "    .dataframe tbody tr th:only-of-type {\n",
       "        vertical-align: middle;\n",
       "    }\n",
       "\n",
       "    .dataframe tbody tr th {\n",
       "        vertical-align: top;\n",
       "    }\n",
       "\n",
       "    .dataframe thead th {\n",
       "        text-align: right;\n",
       "    }\n",
       "</style>\n",
       "<table border=\"1\" class=\"dataframe\">\n",
       "  <thead>\n",
       "    <tr style=\"text-align: right;\">\n",
       "      <th></th>\n",
       "      <th>date</th>\n",
       "      <th>location</th>\n",
       "      <th>location_name</th>\n",
       "      <th>value</th>\n",
       "    </tr>\n",
       "  </thead>\n",
       "  <tbody>\n",
       "    <tr>\n",
       "      <th>0</th>\n",
       "      <td>2021-04-30</td>\n",
       "      <td>19</td>\n",
       "      <td>Iowa</td>\n",
       "      <td>26</td>\n",
       "    </tr>\n",
       "    <tr>\n",
       "      <th>1</th>\n",
       "      <td>2021-04-29</td>\n",
       "      <td>02</td>\n",
       "      <td>Alaska</td>\n",
       "      <td>8</td>\n",
       "    </tr>\n",
       "    <tr>\n",
       "      <th>2</th>\n",
       "      <td>2021-04-29</td>\n",
       "      <td>33</td>\n",
       "      <td>New Hampshire</td>\n",
       "      <td>8</td>\n",
       "    </tr>\n",
       "    <tr>\n",
       "      <th>3</th>\n",
       "      <td>2021-04-28</td>\n",
       "      <td>16</td>\n",
       "      <td>Idaho</td>\n",
       "      <td>13</td>\n",
       "    </tr>\n",
       "    <tr>\n",
       "      <th>4</th>\n",
       "      <td>2021-04-28</td>\n",
       "      <td>49</td>\n",
       "      <td>Utah</td>\n",
       "      <td>19</td>\n",
       "    </tr>\n",
       "    <tr>\n",
       "      <th>...</th>\n",
       "      <td>...</td>\n",
       "      <td>...</td>\n",
       "      <td>...</td>\n",
       "      <td>...</td>\n",
       "    </tr>\n",
       "    <tr>\n",
       "      <th>67411</th>\n",
       "      <td>2023-11-20</td>\n",
       "      <td>US</td>\n",
       "      <td>United States</td>\n",
       "      <td>2934</td>\n",
       "    </tr>\n",
       "    <tr>\n",
       "      <th>67412</th>\n",
       "      <td>2023-11-21</td>\n",
       "      <td>US</td>\n",
       "      <td>United States</td>\n",
       "      <td>3022</td>\n",
       "    </tr>\n",
       "    <tr>\n",
       "      <th>67413</th>\n",
       "      <td>2023-11-22</td>\n",
       "      <td>US</td>\n",
       "      <td>United States</td>\n",
       "      <td>2927</td>\n",
       "    </tr>\n",
       "    <tr>\n",
       "      <th>67414</th>\n",
       "      <td>2023-11-23</td>\n",
       "      <td>US</td>\n",
       "      <td>United States</td>\n",
       "      <td>2682</td>\n",
       "    </tr>\n",
       "    <tr>\n",
       "      <th>67415</th>\n",
       "      <td>2023-11-24</td>\n",
       "      <td>US</td>\n",
       "      <td>United States</td>\n",
       "      <td>3135</td>\n",
       "    </tr>\n",
       "  </tbody>\n",
       "</table>\n",
       "<p>67416 rows × 4 columns</p>\n",
       "</div>"
      ],
      "text/plain": [
       "             date location  location_name  value\n",
       "0      2021-04-30       19           Iowa     26\n",
       "1      2021-04-29       02         Alaska      8\n",
       "2      2021-04-29       33  New Hampshire      8\n",
       "3      2021-04-28       16          Idaho     13\n",
       "4      2021-04-28       49           Utah     19\n",
       "...           ...      ...            ...    ...\n",
       "67411  2023-11-20       US  United States   2934\n",
       "67412  2023-11-21       US  United States   3022\n",
       "67413  2023-11-22       US  United States   2927\n",
       "67414  2023-11-23       US  United States   2682\n",
       "67415  2023-11-24       US  United States   3135\n",
       "\n",
       "[67416 rows x 4 columns]"
      ]
     },
     "execution_count": 5,
     "metadata": {},
     "output_type": "execute_result"
    }
   ],
   "source": [
    "observations"
   ]
  },
  {
   "cell_type": "code",
   "execution_count": null,
   "id": "7540b1e8",
   "metadata": {},
   "outputs": [],
   "source": []
  },
  {
   "cell_type": "markdown",
   "id": "eb8cf702-1914-42fb-b988-e8fd09b4ab49",
   "metadata": {},
   "source": [
    "### Save data"
   ]
  },
  {
   "cell_type": "code",
   "execution_count": 6,
   "id": "34338ba3-8de5-466e-8d3a-b77aa377cc7b",
   "metadata": {},
   "outputs": [],
   "source": [
    "observations.to_parquet(f\"./dat/truth_{'inc' if incidence else 'cum'}_{target}.pq\", index=False)"
   ]
  },
  {
   "cell_type": "markdown",
   "id": "1fbfeebf-7ce9-4868-90c3-11a1b0edc9aa",
   "metadata": {},
   "source": [
    "## Scenario projection data"
   ]
  },
  {
   "cell_type": "markdown",
   "id": "16adde13-d2ee-4a70-8c52-74b5035cff72",
   "metadata": {},
   "source": [
    "### Pull multiple models and save data"
   ]
  },
  {
   "cell_type": "code",
   "execution_count": 7,
   "id": "6db6596f",
   "metadata": {},
   "outputs": [],
   "source": [
    "rd = 4 #smh round\n",
    "dates = ['2021-03-27','2021-03-29','2021-03-28'] #potential submission dates\n",
    "models = [\"Ensemble\",\"Ensemble_LOP\",\"IHME-IHME_COVID_model_deaths_unscaled\",\"JHUAPL-Bucky\",\n",
    "           \"JHU_IDD-CovidSP\",\"Karlen-pypm\",\"MOBS_NEU-GLEAM_COVID\",\n",
    "           \"USC-SIkJalpha\",\"UVA-adaptive\"]"
   ]
  },
  {
   "cell_type": "code",
   "execution_count": 5,
   "id": "403d99e1-30cd-44e1-821e-3459dd4496ce",
   "metadata": {},
   "outputs": [],
   "source": [
    "rd = 5 #smh round\n",
    "dates = ['2021-05-01','2021-05-02','2021-05-04'] #potential submission dates\n",
    "models = [\"Ensemble\",\"Ensemble_LOP\",\"IHME-IHME_COVID_model_deaths_unscaled\",\"JHUAPL-Bucky\",\n",
    "           \"JHU_IDD-CovidSP\",\"Karlen-pypm\",\"MOBS_NEU-GLEAM_COVID\",\"UNCC-hierbin\",\n",
    "           \"USC-SIkJalpha\",\"UVA-adaptive\"]"
   ]
  },
  {
   "cell_type": "code",
   "execution_count": 8,
   "id": "866c8e57",
   "metadata": {},
   "outputs": [],
   "source": [
    "rd = 6 #smh round\n",
    "dates = ['2021-05-28','2021-05-29','2021-05-30','2021-06-08','2021-06-05'] #potential submission dates\n",
    "models = [\"Ensemble\",\"Ensemble_LOP\",\"JHUAPL-Bucky\",\n",
    "           \"JHU_IDD-CovidSP\",\"Karlen-pypm\",\"MOBS_NEU-GLEAM_COVID\",\"UNCC-hierbin\",\"NCSU-COVSIM\",\n",
    "           \"USC-SIkJalpha\",\"UVA-adaptive\",\"UTA-ImmunoSEIRS\", \"UVA-EpiHiper\"]"
   ]
  },
  {
   "cell_type": "code",
   "execution_count": 15,
   "id": "168a8f25",
   "metadata": {},
   "outputs": [],
   "source": [
    "rd = 7 #smh round\n",
    "dates = ['2021-07-03','2021-07-13','2021-07-04'] #potential submission dates\n",
    "models = [\"Ensemble\",\"Ensemble_LOP\",\"JHUAPL-Bucky\",\n",
    "           \"JHU_IDD-CovidSP\",\"Karlen-pypm\",\"MOBS_NEU-GLEAM_COVID\",\"UNCC-hierbin\",\n",
    "           \"USC-SIkJalpha\",\"UVA-adaptive\",\"UVA-EpiHiper\"]"
   ]
  },
  {
   "cell_type": "code",
   "execution_count": 21,
   "id": "7501dcb9",
   "metadata": {},
   "outputs": [],
   "source": [
    "\n",
    "rd = 9 #smh round\n",
    "dates = ['2021-09-11','2021-09-13','2021-09-14','2021-09-12'] #potential submission dates\n",
    "models = [\"Ensemble\",\"Ensemble_LOP\",\"Ensemble_LOP_untrimmed\", \"JHUAPL-Bucky\",\n",
    "           \"JHU_IDD-CovidSP\",\"MOBS_NEU-GLEAM_COVID\",\"UNCC-hierbin\", \"NotreDame-FRED\",\n",
    "           \"USC-SIkJalpha\",\"UVA-adaptive\",\"UVA-EpiHiper\"]"
   ]
  },
  {
   "cell_type": "code",
   "execution_count": 24,
   "id": "632f4c50",
   "metadata": {},
   "outputs": [],
   "source": [
    "\n",
    "rd = 10 #smh round\n",
    "dates = ['2021-11-13','2021-11-20','2021-11-14','2021-11-09','2021-11-21'] #potential submission dates\n",
    "models = [\"Ensemble\",\"Ensemble_LOP\",\"Ensemble_LOP_untrimmed\", \n",
    "           \"MOBS_NEU-GLEAM_COVID\",\"UNCC-hierbin\", \"NotreDame-FRED\",\n",
    "           \"USC-SIkJalpha\",\"UVA-adaptive\",\"UVA-EpiHiper\"]"
   ]
  },
  {
   "cell_type": "code",
   "execution_count": 27,
   "id": "033e0064",
   "metadata": {},
   "outputs": [],
   "source": [
    "rd = 11 #smh round\n",
    "dates = ['2021-12-18','2021-12-21','2021-12-17','2021-12-19','2021-11-21'] #potential submission dates\n",
    "models = [\"Ensemble\",\"Ensemble_LOP\",\"Ensemble_LOP_untrimmed\", \"JHU_IDD-CovidSP\", \n",
    "           \"MOBS_NEU-GLEAM_COVID\",\"UNCC-hierbin\", \"NotreDame-FRED\",\n",
    "           \"USC-SIkJalpha\",\"UVA-adaptive\",\"UVA-EpiHiper\"]"
   ]
  },
  {
   "cell_type": "code",
   "execution_count": 31,
   "id": "78f0e640",
   "metadata": {},
   "outputs": [],
   "source": [
    "rd = 10\n",
    "dates = ['2021-11-13','2021-11-20','2021-11-14','2021-11-09','2021-11-21'] #potential submission dates\n",
    "models = [\"NotreDame-FRED\"]"
   ]
  },
  {
   "cell_type": "code",
   "execution_count": 8,
   "id": "984e9267-e425-433a-9b14-10e6a743c406",
   "metadata": {},
   "outputs": [],
   "source": [
    "rd = 12\n",
    "models = [\"Ensemble\",\"Ensemble_LOP\",\"Ensemble_LOP_untrimmed\",\"JHU_IDD-CovidSP\",\"MOBS_NEU-GLEAM_COVID\",\n",
    "           \"NCSU-COVSIM\",\"NotreDame-FRED\",\"UNCC-hierbin\",\"USC-SIkJalpha\",\"UTA-ImmunoSEIRS\",\n",
    "           \"UVA-EpiHiper\",\"UVA-adaptive\"]\n",
    "dates = ['2022-01-09']"
   ]
  },
  {
   "cell_type": "code",
   "execution_count": 38,
   "id": "401a52a4",
   "metadata": {},
   "outputs": [],
   "source": [
    "rd = 13\n",
    "models = [\"Ensemble\",\"Ensemble_LOP\",\"Ensemble_LOP_untrimmed\",\"JHU_IDD-CovidSP\",\"MOBS_NEU-GLEAM_COVID\",\n",
    "           \"NCSU-COVSIM\",\"UNCC-hierbin\",\"USC-SIkJalpha\",\"UTA-ImmunoSEIRS\",\n",
    "           \"UVA-EpiHiper\",\"UVA-adaptive\"]\n",
    "dates = ['2022-03-13']"
   ]
  },
  {
   "cell_type": "code",
   "execution_count": 42,
   "id": "f0c474f8-b083-4bfb-ad24-f3eedb0930a5",
   "metadata": {},
   "outputs": [],
   "source": [
    "rd = 14\n",
    "models = [\"Ensemble\",\"Ensemble_LOP\",\"Ensemble_LOP_untrimmed\",\"JHU_IDD-CovidSP\",\"MOBS_NEU-GLEAM_COVID\",\n",
    "          \"MOBS_NEU-GLEAM_COVID_OT\",\"NCSU-COVSIM\",\"UNCC-hierbin\",\"USC-SIkJalpha\",\"USC-SIkJalpha-update\",\n",
    "          \"UTA-ImmunoSEIRS\",\"UVA-adaptive\"]\n",
    "dates = ['2022-06-05','2022-06-04']"
   ]
  },
  {
   "cell_type": "code",
   "execution_count": 45,
   "id": "63f625a0",
   "metadata": {},
   "outputs": [],
   "source": [
    "rd = 15\n",
    "models = [\"Ensemble\",\"Ensemble_LOP\",\"Ensemble_LOP_untrimmed\",\"JHU_IDD-CovidSP\",\"MOBS_NEU-GLEAM_COVID\",\n",
    "          \"MOBS_NEU-GLEAM_COVID_OT\",\"NCSU-COVSIM\",\"UNCC-hierbin\",\"USC-SIkJalpha\",\"USC-SIkJalpha-update\",\n",
    "          \"UTA-ImmunoSEIRS\",\"UVA-adaptive\"]\n",
    "dates = ['2022-07-31']"
   ]
  },
  {
   "cell_type": "code",
   "execution_count": 50,
   "id": "bf4d797a",
   "metadata": {},
   "outputs": [],
   "source": [
    "rd = 16\n",
    "models = [\"Ensemble\",\"Ensemble_LOP\",\"Ensemble_LOP_untrimmed\",\"JHU_IDD-CovidSP\",\"MOBS_NEU-GLEAM_COVID\",\n",
    "          \"NCSU-COVSIM\",\"UNCC-hierbin\",\"USC-SIkJalpha\",\n",
    "          \"UTA-ImmunoSEIRS\",\"UVA-adaptive\"]\n",
    "dates = ['2022-10-30']"
   ]
  },
  {
   "cell_type": "code",
   "execution_count": 9,
   "id": "b6a13468-edea-428f-8c29-1fe897685ce4",
   "metadata": {},
   "outputs": [
    {
     "name": "stdout",
     "output_type": "stream",
     "text": [
      "Ensemble\n",
      "Ensemble_LOP\n",
      "Ensemble_LOP_untrimmed\n",
      "JHU_IDD-CovidSP\n",
      "MOBS_NEU-GLEAM_COVID\n",
      "NCSU-COVSIM\n",
      "NotreDame-FRED\n",
      "UNCC-hierbin\n",
      "Data for model UNCC-hierbin and date ['2022-01-09'] unavailable\n",
      "USC-SIkJalpha\n",
      "UTA-ImmunoSEIRS\n",
      "UVA-EpiHiper\n",
      "UVA-adaptive\n"
     ]
    }
   ],
   "source": [
    "for model in models:\n",
    "    print(model)\n",
    "    predictions = pull_scenario_modeling_hub_predictions(model,dates)\n",
    "    if predictions is not None:\n",
    "        predictions.to_parquet(f'./dat/{model}_rd{rd}.pq', index=False)\n",
    "        # predictions.to_csv(f'./dat/{model}_rd{rd}.csv', index=False)"
   ]
  },
  {
   "cell_type": "markdown",
   "id": "b701221b",
   "metadata": {},
   "source": [
    "# Pull COVID-19 Forecast Hub data"
   ]
  },
  {
   "cell_type": "code",
   "execution_count": 10,
   "id": "7230f1f6",
   "metadata": {},
   "outputs": [],
   "source": [
    "def _url_checker(url):\n",
    "    get = requests.get(url)\n",
    "    if get.status_code != 200:\n",
    "        raise requests.exceptions.RequestException(f\"{url}: is Not reachable\")\n",
    "\n",
    "def pull_covid_forecast_hub_predictions(model,start_week,end_week):\n",
    "    \"\"\"pull_covid_forecast_hub_predictions. Load predictions of the model saved by the covid19 forecast hub.\n",
    "\n",
    "    Parameters\n",
    "    ----------\n",
    "    model : str\n",
    "        Model name on thhe\n",
    "    start_week : Week object\n",
    "        First epiweek of the range.\n",
    "    end_week : Week object\n",
    "        Last epiweek of the range.\n",
    "    \"\"\"\n",
    "\n",
    "    week_list = [start_week]\n",
    "    while week_list[-1] != end_week:\n",
    "        week_list.append(week_list[-1]+1)\n",
    "    pull_dates = [(week.startdate()+timedelta(days = 1)) for week in week_list]\n",
    "    get_url = lambda date:f\"https://raw.githubusercontent.com/reichlab/covid19-forecast-hub/master/data-processed/{model}/{date}-{model}.csv\"\n",
    "    #check which files are accessible\n",
    "    url_list = []\n",
    "    for date in pull_dates:\n",
    "        try:\n",
    "            url = get_url(date.isoformat())\n",
    "            _url_checker(url)\n",
    "            url_list += [url]\n",
    "        except requests.exceptions.RequestException:\n",
    "            #some group push date is on sundays\n",
    "            try:\n",
    "                url = get_url((date+timedelta(days = -1)).isoformat())\n",
    "                _url_checker(url)\n",
    "                url_list += [url]\n",
    "            except requests.exceptions.RequestException:\n",
    "                print(f\"Data for date {date.isoformat()} is unavailable\")\n",
    "    df_predictions = pd.concat([pd.read_csv(url,dtype={'location':str},\n",
    "                                            parse_dates=['target_end_date','forecast_date']) for url in url_list])\n",
    "    return df_predictions\n",
    "\n",
    "def pull_surveillance_data(target='death',incidence=True):\n",
    "    mapping = {'death':'Deaths', 'case':'Cases', 'hospitalization': 'Hospitalizations'}\n",
    "    if incidence:\n",
    "        s = 'Incident'\n",
    "    else:\n",
    "        s = 'Cumulative'\n",
    "    url = f\"https://media.githubusercontent.com/media/reichlab/covid19-forecast-hub/master/data-truth/truth-{s}%20{mapping[target]}.csv\"\n",
    "    return pd.read_csv(url, dtype={'location':str})"
   ]
  },
  {
   "cell_type": "markdown",
   "id": "56550b71",
   "metadata": {},
   "source": [
    "# Pull a single model"
   ]
  },
  {
   "cell_type": "code",
   "execution_count": null,
   "id": "8a347a93",
   "metadata": {},
   "outputs": [],
   "source": [
    "model = \"COVIDhub-baseline\"\n",
    "#specify the period\n",
    "start_week = Week(2020,47)\n",
    "end_week = Week(2021,16)\n",
    "#specify what is the target\n",
    "target = 'death'\n",
    "# target = 'hosp'\n",
    "prediction_delay = 4\n",
    "incidence = True\n",
    "target_prediction = f\"{prediction_delay} wk ahead {'inc' if incidence else 'cum'} {target}\"\n",
    "#pull the predictions\n",
    "predictions = pull_covid_forecast_hub_predictions(model,start_week-prediction_delay+1,end_week-prediction_delay+1) #this ensures predictions are covered by start week and end week\n",
    "predictions = predictions[(predictions['target'] == target_prediction)] #select desired prediction"
   ]
  },
  {
   "cell_type": "markdown",
   "id": "81358659",
   "metadata": {},
   "source": [
    "### Pull multiple models and save data"
   ]
  },
  {
   "cell_type": "code",
   "execution_count": null,
   "id": "a2c101f0",
   "metadata": {},
   "outputs": [],
   "source": [
    "models = [\"COVIDhub-baseline\", \"COVIDhub-ensemble\"]\n",
    "start_week = Week(2023,16)\n",
    "end_week =  Week(2023,31)\n",
    "rd=17\n",
    "for model in models:\n",
    "    print(model)\n",
    "    predictions = pull_covid_forecast_hub_predictions(model,start_week,end_week) #by default, should cover 1 week ahead predictions\n",
    "    if predictions is not None:\n",
    "        predictions.to_parquet(f'./dat/{model}_4wks_rd{rd}.pq', index=False)\n",
    "        # predictions.to_csv(f'./dat/{model}_rd{rd}.csv', index=False)"
   ]
  },
  {
   "cell_type": "code",
   "execution_count": null,
   "id": "ca4bdbb2",
   "metadata": {},
   "outputs": [],
   "source": [
    "model = \"COVIDhub-baseline\"\n",
    "#model = \"COVIDhub-ensemble\"\n",
    "\n",
    "startdates = [ Week(2021,18), Week(2021,22), Week(2021,27), Week(2021,37), Week(2021,51),\n",
    "             Week(2022,2), Week(2022,11), Week(2022,23), Week(2022,31), Week(2022,44)]\n",
    "\n",
    "\n",
    "enddates = [ Week(2021,43), Week(2021,47), Week(2021,52), Week(2022,9),  Week(2022, 10),\n",
    "           Week(2022, 13), Week(2023, 11), Week(2023, 23), Week(2023, 18), Week(2023, 17)]\n",
    "\n",
    "rds = [ 5, 6, 7, 9,  11, 12, 13, 14 ,15, 16]\n",
    "\n",
    "#rds = [5, 6]\n",
    "\n",
    "target = 'death'\n",
    "# target = 'hosp'\n",
    "prediction_delay = 4\n",
    "incidence = True\n",
    "target_prediction = f\"{prediction_delay} wk ahead {'inc' if incidence else 'cum'} {target}\"\n",
    "\n",
    "for i in range(len(rds)):\n",
    "    start_week = startdates[i]\n",
    "    end_week = enddates[i]\n",
    "    rd = rds[i]\n",
    "    print(rd)\n",
    "    predictions = pull_covid_forecast_hub_predictions(model,start_week-prediction_delay+1,end_week-prediction_delay+1) #by default, should cover 1 week ahead predictions\n",
    "    predictions = predictions[(predictions['target'] == target_prediction)] #select desired prediction\n",
    "    if predictions is not None:\n",
    "        predictions.to_parquet(f'./dat/{model}_4wks_rd{rd}.pq', index=False)\n",
    "        \n",
    "        "
   ]
  },
  {
   "cell_type": "markdown",
   "id": "8d2b8f0f-75d1-4905-a4d9-a40865f5e59e",
   "metadata": {},
   "source": [
    "**NOTE**: anything saved in the ```dat``` folder is not going to be tracked by git, to avoid having data on the Github repository. The repository is to track code only."
   ]
  }
 ],
 "metadata": {
  "kernelspec": {
   "display_name": "Python 3 (ipykernel)",
   "language": "python",
   "name": "python3"
  },
  "language_info": {
   "codemirror_mode": {
    "name": "ipython",
    "version": 3
   },
   "file_extension": ".py",
   "mimetype": "text/x-python",
   "name": "python",
   "nbconvert_exporter": "python",
   "pygments_lexer": "ipython3",
   "version": "3.10.6"
  }
 },
 "nbformat": 4,
 "nbformat_minor": 5
}
