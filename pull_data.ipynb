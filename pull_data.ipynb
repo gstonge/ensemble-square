{
 "cells": [
  {
   "cell_type": "markdown",
   "id": "98d5c688-641a-435d-b517-a9062e4d0609",
   "metadata": {},
   "source": [
    "# Pull data"
   ]
  },
  {
   "cell_type": "code",
   "execution_count": 1,
   "id": "c8854cf6-4760-473f-a00b-3d620d7e812b",
   "metadata": {},
   "outputs": [],
   "source": [
    "import requests\n",
    "import numpy as np\n",
    "import pandas as pd\n",
    "from epiweeks import Week\n",
    "from datetime import date, timedelta\n",
    "import os"
   ]
  },
  {
   "cell_type": "code",
   "execution_count": 2,
   "id": "41a0db4a-693f-40f3-a77b-a314d834e0a0",
   "metadata": {},
   "outputs": [],
   "source": [
    "def pull_scenario_modeling_hub_predictions(model,dates):\n",
    "    \"\"\"pull_scenario_modeling_hub_predictions. Load predictions of the model saved by the scenario modeling\n",
    "    hub.\n",
    "\n",
    "    Parameters\n",
    "    ----------\n",
    "    model : str\n",
    "        Model name on thhe\n",
    "    dates : list or string\n",
    "        List of potential dates in the iso format, e.g., 'yyyy-mm-dd', for the submission.\n",
    "    \"\"\"\n",
    "    predictions = None\n",
    "    if isinstance(dates,str):\n",
    "        dates = [dates]\n",
    "    for date in dates:\n",
    "        url = f\"https://raw.githubusercontent.com/midas-network/covid19-scenario-modeling-hub/master/data-processed/{model}/{date}-{model}\"\n",
    "        for ext in [\".csv\",\".gz\",\".zip\",\".csv.zip\",\".csv.gz\"]:\n",
    "            try:\n",
    "                predictions = pd.read_csv(url+ext,dtype={'location':str},parse_dates=['target_end_date'])\n",
    "            except:\n",
    "                pass\n",
    "    if predictions is None:\n",
    "        print(f\"Data for model {model} and date {dates} unavailable\")\n",
    "    return predictions\n",
    "\n",
    "\n",
    "def pull_surveillance_data(target='death',incidence=True):\n",
    "    mapping = {'death':'Deaths', 'case':'Cases', 'hospitalization': 'Hospitalizations'}\n",
    "    if incidence:\n",
    "        s = 'Incident'\n",
    "    else:\n",
    "        s = 'Cumulative'\n",
    "    url = f\"https://media.githubusercontent.com/media/reichlab/covid19-forecast-hub/master/data-truth/truth-{s}%20{mapping[target]}.csv\"\n",
    "    return pd.read_csv(url, dtype={'location':str})"
   ]
  },
  {
   "cell_type": "markdown",
   "id": "cbceae3e-6846-4e40-ba0f-561f8eb5f112",
   "metadata": {},
   "source": [
    "## Surveillance data"
   ]
  },
  {
   "cell_type": "code",
   "execution_count": 73,
   "id": "96ae589e-cc09-455f-b897-c0a1dad06adb",
   "metadata": {},
   "outputs": [],
   "source": [
    "#target = 'hospitalization'\n",
    "#target = 'death'\n",
    "target = 'death'\n",
    "incidence = True"
   ]
  },
  {
   "cell_type": "code",
   "execution_count": 74,
   "id": "566a1bcd-716f-4101-b744-cf7163aab782",
   "metadata": {},
   "outputs": [],
   "source": [
    "observations = pull_surveillance_data(target,incidence)"
   ]
  },
  {
   "cell_type": "code",
   "execution_count": 75,
   "id": "c5499b17-4920-4ecb-a23b-8c1255b610ae",
   "metadata": {},
   "outputs": [
    {
     "data": {
      "text/html": [
       "<div>\n",
       "<style scoped>\n",
       "    .dataframe tbody tr th:only-of-type {\n",
       "        vertical-align: middle;\n",
       "    }\n",
       "\n",
       "    .dataframe tbody tr th {\n",
       "        vertical-align: top;\n",
       "    }\n",
       "\n",
       "    .dataframe thead th {\n",
       "        text-align: right;\n",
       "    }\n",
       "</style>\n",
       "<table border=\"1\" class=\"dataframe\">\n",
       "  <thead>\n",
       "    <tr style=\"text-align: right;\">\n",
       "      <th></th>\n",
       "      <th>date</th>\n",
       "      <th>location</th>\n",
       "      <th>location_name</th>\n",
       "      <th>value</th>\n",
       "    </tr>\n",
       "  </thead>\n",
       "  <tbody>\n",
       "    <tr>\n",
       "      <th>3244795</th>\n",
       "      <td>2022-10-27</td>\n",
       "      <td>US</td>\n",
       "      <td>United States</td>\n",
       "      <td>539</td>\n",
       "    </tr>\n",
       "    <tr>\n",
       "      <th>3244796</th>\n",
       "      <td>2022-10-28</td>\n",
       "      <td>US</td>\n",
       "      <td>United States</td>\n",
       "      <td>179</td>\n",
       "    </tr>\n",
       "    <tr>\n",
       "      <th>3244797</th>\n",
       "      <td>2022-10-29</td>\n",
       "      <td>US</td>\n",
       "      <td>United States</td>\n",
       "      <td>30</td>\n",
       "    </tr>\n",
       "    <tr>\n",
       "      <th>3244798</th>\n",
       "      <td>2022-10-30</td>\n",
       "      <td>US</td>\n",
       "      <td>United States</td>\n",
       "      <td>2</td>\n",
       "    </tr>\n",
       "    <tr>\n",
       "      <th>3244799</th>\n",
       "      <td>2022-10-31</td>\n",
       "      <td>US</td>\n",
       "      <td>United States</td>\n",
       "      <td>123</td>\n",
       "    </tr>\n",
       "  </tbody>\n",
       "</table>\n",
       "</div>"
      ],
      "text/plain": [
       "               date location  location_name  value\n",
       "3244795  2022-10-27       US  United States    539\n",
       "3244796  2022-10-28       US  United States    179\n",
       "3244797  2022-10-29       US  United States     30\n",
       "3244798  2022-10-30       US  United States      2\n",
       "3244799  2022-10-31       US  United States    123"
      ]
     },
     "execution_count": 75,
     "metadata": {},
     "output_type": "execute_result"
    }
   ],
   "source": [
    "observations.tail(5)"
   ]
  },
  {
   "cell_type": "code",
   "execution_count": 77,
   "id": "31f0bbbf",
   "metadata": {},
   "outputs": [
    {
     "data": {
      "text/plain": [
       "['2022-07-24',\n",
       " '2022-07-25',\n",
       " '2022-07-26',\n",
       " '2022-07-27',\n",
       " '2022-07-28',\n",
       " '2022-07-29',\n",
       " '2022-07-30',\n",
       " '2022-07-31',\n",
       " '2022-08-01',\n",
       " '2022-08-02',\n",
       " '2022-08-03',\n",
       " '2022-08-04',\n",
       " '2022-08-05',\n",
       " '2022-08-06',\n",
       " '2022-08-07',\n",
       " '2022-08-08',\n",
       " '2022-08-09',\n",
       " '2022-08-10',\n",
       " '2022-08-11',\n",
       " '2022-08-12',\n",
       " '2022-08-13',\n",
       " '2022-08-14',\n",
       " '2022-08-15',\n",
       " '2022-08-16',\n",
       " '2022-08-17',\n",
       " '2022-08-18',\n",
       " '2022-08-19',\n",
       " '2022-08-20',\n",
       " '2022-08-21',\n",
       " '2022-08-22',\n",
       " '2022-08-23',\n",
       " '2022-08-24',\n",
       " '2022-08-25',\n",
       " '2022-08-26',\n",
       " '2022-08-27',\n",
       " '2022-08-28',\n",
       " '2022-08-29',\n",
       " '2022-08-30',\n",
       " '2022-08-31',\n",
       " '2022-09-01',\n",
       " '2022-09-02',\n",
       " '2022-09-03',\n",
       " '2022-09-04',\n",
       " '2022-09-05',\n",
       " '2022-09-06',\n",
       " '2022-09-07',\n",
       " '2022-09-08',\n",
       " '2022-09-09',\n",
       " '2022-09-10',\n",
       " '2022-09-11',\n",
       " '2022-09-12',\n",
       " '2022-09-13',\n",
       " '2022-09-14',\n",
       " '2022-09-15',\n",
       " '2022-09-16',\n",
       " '2022-09-17',\n",
       " '2022-09-18',\n",
       " '2022-09-19',\n",
       " '2022-09-20',\n",
       " '2022-09-21',\n",
       " '2022-09-22',\n",
       " '2022-09-23',\n",
       " '2022-09-24',\n",
       " '2022-09-25',\n",
       " '2022-09-26',\n",
       " '2022-09-27',\n",
       " '2022-09-28',\n",
       " '2022-09-29',\n",
       " '2022-09-30',\n",
       " '2022-10-01',\n",
       " '2022-10-02',\n",
       " '2022-10-03',\n",
       " '2022-10-04',\n",
       " '2022-10-05',\n",
       " '2022-10-06',\n",
       " '2022-10-07',\n",
       " '2022-10-08',\n",
       " '2022-10-09',\n",
       " '2022-10-10',\n",
       " '2022-10-11',\n",
       " '2022-10-12',\n",
       " '2022-10-13',\n",
       " '2022-10-14',\n",
       " '2022-10-15',\n",
       " '2022-10-16',\n",
       " '2022-10-17',\n",
       " '2022-10-18',\n",
       " '2022-10-19',\n",
       " '2022-10-20',\n",
       " '2022-10-21',\n",
       " '2022-10-22',\n",
       " '2022-10-23',\n",
       " '2022-10-24',\n",
       " '2022-10-25',\n",
       " '2022-10-26',\n",
       " '2022-10-27',\n",
       " '2022-10-28',\n",
       " '2022-10-29',\n",
       " '2022-10-30']"
      ]
     },
     "execution_count": 77,
     "metadata": {},
     "output_type": "execute_result"
    }
   ],
   "source": [
    "list(observations.date.unique()[-100:-1])"
   ]
  },
  {
   "cell_type": "markdown",
   "id": "eb8cf702-1914-42fb-b988-e8fd09b4ab49",
   "metadata": {},
   "source": [
    "### Save data"
   ]
  },
  {
   "cell_type": "code",
   "execution_count": 71,
   "id": "34338ba3-8de5-466e-8d3a-b77aa377cc7b",
   "metadata": {},
   "outputs": [],
   "source": [
    "observations.to_parquet(f\"./dat/truth_{'inc' if incidence else 'cum'}_{target}.pq\", index=False)"
   ]
  },
  {
   "cell_type": "markdown",
   "id": "1fbfeebf-7ce9-4868-90c3-11a1b0edc9aa",
   "metadata": {},
   "source": [
    "## Forecast data"
   ]
  },
  {
   "cell_type": "markdown",
   "id": "d572dc3c-b6a9-4aea-9ea2-72096484b667",
   "metadata": {},
   "source": [
    "### Pull a single model"
   ]
  },
  {
   "cell_type": "code",
   "execution_count": 17,
   "id": "4f7be515-6b52-4b70-9581-da45bf3b7851",
   "metadata": {},
   "outputs": [],
   "source": [
    "model = \"MOBS_NEU-GLEAM_COVID\"\n",
    "dates = ['2021-05-01','2021-05-02','2021-05-04'] #potential submission dates\n",
    "predictions = pull_scenario_modeling_hub_predictions(model,dates)"
   ]
  },
  {
   "cell_type": "code",
   "execution_count": null,
   "id": "023b8e56",
   "metadata": {},
   "outputs": [],
   "source": []
  },
  {
   "cell_type": "code",
   "execution_count": 14,
   "id": "7e08cf3a-8f7b-4dcd-9924-d5a613969419",
   "metadata": {},
   "outputs": [
    {
     "data": {
      "text/html": [
       "<div>\n",
       "<style scoped>\n",
       "    .dataframe tbody tr th:only-of-type {\n",
       "        vertical-align: middle;\n",
       "    }\n",
       "\n",
       "    .dataframe tbody tr th {\n",
       "        vertical-align: top;\n",
       "    }\n",
       "\n",
       "    .dataframe thead th {\n",
       "        text-align: right;\n",
       "    }\n",
       "</style>\n",
       "<table border=\"1\" class=\"dataframe\">\n",
       "  <thead>\n",
       "    <tr style=\"text-align: right;\">\n",
       "      <th></th>\n",
       "      <th>target</th>\n",
       "      <th>location</th>\n",
       "      <th>scenario_name</th>\n",
       "      <th>scenario_id</th>\n",
       "      <th>quantile</th>\n",
       "      <th>value</th>\n",
       "      <th>target_end_date</th>\n",
       "      <th>model_projection_date</th>\n",
       "      <th>type</th>\n",
       "    </tr>\n",
       "  </thead>\n",
       "  <tbody>\n",
       "    <tr>\n",
       "      <th>0</th>\n",
       "      <td>1 wk ahead inc death</td>\n",
       "      <td>45</td>\n",
       "      <td>highVac_modNPI</td>\n",
       "      <td>A-2021-05-02</td>\n",
       "      <td>0.01</td>\n",
       "      <td>58.474616</td>\n",
       "      <td>2021-05-08</td>\n",
       "      <td>2021-05-01</td>\n",
       "      <td>quantile</td>\n",
       "    </tr>\n",
       "    <tr>\n",
       "      <th>1</th>\n",
       "      <td>2 wk ahead inc death</td>\n",
       "      <td>45</td>\n",
       "      <td>highVac_modNPI</td>\n",
       "      <td>A-2021-05-02</td>\n",
       "      <td>0.01</td>\n",
       "      <td>47.918443</td>\n",
       "      <td>2021-05-15</td>\n",
       "      <td>2021-05-01</td>\n",
       "      <td>quantile</td>\n",
       "    </tr>\n",
       "    <tr>\n",
       "      <th>2</th>\n",
       "      <td>3 wk ahead inc death</td>\n",
       "      <td>45</td>\n",
       "      <td>highVac_modNPI</td>\n",
       "      <td>A-2021-05-02</td>\n",
       "      <td>0.01</td>\n",
       "      <td>37.881073</td>\n",
       "      <td>2021-05-22</td>\n",
       "      <td>2021-05-01</td>\n",
       "      <td>quantile</td>\n",
       "    </tr>\n",
       "    <tr>\n",
       "      <th>3</th>\n",
       "      <td>4 wk ahead inc death</td>\n",
       "      <td>45</td>\n",
       "      <td>highVac_modNPI</td>\n",
       "      <td>A-2021-05-02</td>\n",
       "      <td>0.01</td>\n",
       "      <td>30.219431</td>\n",
       "      <td>2021-05-29</td>\n",
       "      <td>2021-05-01</td>\n",
       "      <td>quantile</td>\n",
       "    </tr>\n",
       "    <tr>\n",
       "      <th>4</th>\n",
       "      <td>5 wk ahead inc death</td>\n",
       "      <td>45</td>\n",
       "      <td>highVac_modNPI</td>\n",
       "      <td>A-2021-05-02</td>\n",
       "      <td>0.01</td>\n",
       "      <td>23.725748</td>\n",
       "      <td>2021-06-05</td>\n",
       "      <td>2021-05-01</td>\n",
       "      <td>quantile</td>\n",
       "    </tr>\n",
       "  </tbody>\n",
       "</table>\n",
       "</div>"
      ],
      "text/plain": [
       "                 target location   scenario_name   scenario_id  quantile  \\\n",
       "0  1 wk ahead inc death       45  highVac_modNPI  A-2021-05-02      0.01   \n",
       "1  2 wk ahead inc death       45  highVac_modNPI  A-2021-05-02      0.01   \n",
       "2  3 wk ahead inc death       45  highVac_modNPI  A-2021-05-02      0.01   \n",
       "3  4 wk ahead inc death       45  highVac_modNPI  A-2021-05-02      0.01   \n",
       "4  5 wk ahead inc death       45  highVac_modNPI  A-2021-05-02      0.01   \n",
       "\n",
       "       value target_end_date model_projection_date      type  \n",
       "0  58.474616      2021-05-08            2021-05-01  quantile  \n",
       "1  47.918443      2021-05-15            2021-05-01  quantile  \n",
       "2  37.881073      2021-05-22            2021-05-01  quantile  \n",
       "3  30.219431      2021-05-29            2021-05-01  quantile  \n",
       "4  23.725748      2021-06-05            2021-05-01  quantile  "
      ]
     },
     "execution_count": 14,
     "metadata": {},
     "output_type": "execute_result"
    }
   ],
   "source": [
    "predictions.head(5)"
   ]
  },
  {
   "cell_type": "markdown",
   "id": "16adde13-d2ee-4a70-8c52-74b5035cff72",
   "metadata": {},
   "source": [
    "### Pull multiple models and save data"
   ]
  },
  {
   "cell_type": "code",
   "execution_count": null,
   "id": "fd420749",
   "metadata": {},
   "outputs": [],
   "source": []
  },
  {
   "cell_type": "code",
   "execution_count": 3,
   "id": "6db6596f",
   "metadata": {},
   "outputs": [],
   "source": [
    "rd = 4 #smh round\n",
    "dates = ['2021-03-27','2021-03-29','2021-03-28'] #potential submission dates\n",
    "models = [\"Ensemble\",\"Ensemble_LOP\",\"IHME-IHME_COVID_model_deaths_unscaled\",\"JHUAPL-Bucky\",\n",
    "           \"JHU_IDD-CovidSP\",\"Karlen-pypm\",\"MOBS_NEU-GLEAM_COVID\",\n",
    "           \"USC-SIkJalpha\",\"UVA-adaptive\"]"
   ]
  },
  {
   "cell_type": "code",
   "execution_count": 5,
   "id": "403d99e1-30cd-44e1-821e-3459dd4496ce",
   "metadata": {},
   "outputs": [],
   "source": [
    "rd = 5 #smh round\n",
    "dates = ['2021-05-01','2021-05-02','2021-05-04'] #potential submission dates\n",
    "models = [\"Ensemble\",\"Ensemble_LOP\",\"IHME-IHME_COVID_model_deaths_unscaled\",\"JHUAPL-Bucky\",\n",
    "           \"JHU_IDD-CovidSP\",\"Karlen-pypm\",\"MOBS_NEU-GLEAM_COVID\",\"UNCC-hierbin\",\n",
    "           \"USC-SIkJalpha\",\"UVA-adaptive\"]"
   ]
  },
  {
   "cell_type": "code",
   "execution_count": 8,
   "id": "64970d7c",
   "metadata": {},
   "outputs": [],
   "source": [
    "rd = 6 #smh round\n",
    "dates = ['2021-05-28','2021-05-29','2021-05-30','2021-06-08','2021-06-05'] #potential submission dates\n",
    "models = [\"Ensemble\",\"Ensemble_LOP\",\"JHUAPL-Bucky\",\n",
    "           \"JHU_IDD-CovidSP\",\"Karlen-pypm\",\"MOBS_NEU-GLEAM_COVID\",\"UNCC-hierbin\",\"NCSU-COVSIM\",\n",
    "           \"USC-SIkJalpha\",\"UVA-adaptive\",\"UTA-ImmunoSEIRS\", \"UVA-EpiHiper\"]"
   ]
  },
  {
   "cell_type": "code",
   "execution_count": 15,
   "id": "2ab9c2f3",
   "metadata": {},
   "outputs": [],
   "source": [
    "rd = 7 #smh round\n",
    "dates = ['2021-07-03','2021-07-13','2021-07-04'] #potential submission dates\n",
    "models = [\"Ensemble\",\"Ensemble_LOP\",\"JHUAPL-Bucky\",\n",
    "           \"JHU_IDD-CovidSP\",\"Karlen-pypm\",\"MOBS_NEU-GLEAM_COVID\",\"UNCC-hierbin\",\n",
    "           \"USC-SIkJalpha\",\"UVA-adaptive\",\"UVA-EpiHiper\"]"
   ]
  },
  {
   "cell_type": "code",
   "execution_count": 21,
   "id": "21faf095",
   "metadata": {},
   "outputs": [],
   "source": [
    "\n",
    "rd = 9 #smh round\n",
    "dates = ['2021-09-11','2021-09-13','2021-09-14','2021-09-12'] #potential submission dates\n",
    "models = [\"Ensemble\",\"Ensemble_LOP\",\"Ensemble_LOP_untrimmed\", \"JHUAPL-Bucky\",\n",
    "           \"JHU_IDD-CovidSP\",\"MOBS_NEU-GLEAM_COVID\",\"UNCC-hierbin\", \"NotreDame-FRED\",\n",
    "           \"USC-SIkJalpha\",\"UVA-adaptive\",\"UVA-EpiHiper\"]"
   ]
  },
  {
   "cell_type": "code",
   "execution_count": 24,
   "id": "d44f2db0",
   "metadata": {},
   "outputs": [],
   "source": [
    "\n",
    "rd = 10 #smh round\n",
    "dates = ['2021-11-13','2021-11-20','2021-11-14','2021-11-09','2021-11-21'] #potential submission dates\n",
    "models = [\"Ensemble\",\"Ensemble_LOP\",\"Ensemble_LOP_untrimmed\", \n",
    "           \"MOBS_NEU-GLEAM_COVID\",\"UNCC-hierbin\", \"NotreDame-FRED\",\n",
    "           \"USC-SIkJalpha\",\"UVA-adaptive\",\"UVA-EpiHiper\"]"
   ]
  },
  {
   "cell_type": "code",
   "execution_count": 27,
   "id": "09b59888",
   "metadata": {},
   "outputs": [],
   "source": [
    "rd = 11 #smh round\n",
    "dates = ['2021-12-18','2021-12-21','2021-12-17','2021-12-19','2021-11-21'] #potential submission dates\n",
    "models = [\"Ensemble\",\"Ensemble_LOP\",\"Ensemble_LOP_untrimmed\", \"JHU_IDD-CovidSP\", \n",
    "           \"MOBS_NEU-GLEAM_COVID\",\"UNCC-hierbin\", \"NotreDame-FRED\",\n",
    "           \"USC-SIkJalpha\",\"UVA-adaptive\",\"UVA-EpiHiper\"]"
   ]
  },
  {
   "cell_type": "code",
   "execution_count": 31,
   "id": "a82632e2",
   "metadata": {},
   "outputs": [],
   "source": [
    "rd = 10\n",
    "dates = ['2021-11-13','2021-11-20','2021-11-14','2021-11-09','2021-11-21'] #potential submission dates\n",
    "models = [\"NotreDame-FRED\"]"
   ]
  },
  {
   "cell_type": "code",
   "execution_count": 35,
   "id": "984e9267-e425-433a-9b14-10e6a743c406",
   "metadata": {},
   "outputs": [],
   "source": [
    "rd = 12\n",
    "models = [\"Ensemble\",\"Ensemble_LOP\",\"Ensemble_LOP_untrimmed\",\"JHU_IDD-CovidSP\",\"MOBS_NEU-GLEAM_COVID\",\n",
    "           \"NCSU-COVSIM\",\"NotreDame-FRED\",\"UNCC-hierbin\",\"USC-SIkJalpha\",\"UTA-ImmunoSEIRS\",\n",
    "           \"UVA-EpiHiper\",\"UVA-adaptive\"]\n",
    "dates = ['2022-01-09']"
   ]
  },
  {
   "cell_type": "code",
   "execution_count": 38,
   "id": "2e838c3a",
   "metadata": {},
   "outputs": [],
   "source": [
    "rd = 13\n",
    "models = [\"Ensemble\",\"Ensemble_LOP\",\"Ensemble_LOP_untrimmed\",\"JHU_IDD-CovidSP\",\"MOBS_NEU-GLEAM_COVID\",\n",
    "           \"NCSU-COVSIM\",\"UNCC-hierbin\",\"USC-SIkJalpha\",\"UTA-ImmunoSEIRS\",\n",
    "           \"UVA-EpiHiper\",\"UVA-adaptive\"]\n",
    "dates = ['2022-03-13']"
   ]
  },
  {
   "cell_type": "code",
   "execution_count": 60,
   "id": "9f24f48b",
   "metadata": {},
   "outputs": [],
   "source": [
    "rd = 13\n",
    "models = [\"MOBS_NEU-GLEAM_COVID_OT\"]\n",
    "dates = ['2022-03-13']"
   ]
  },
  {
   "cell_type": "code",
   "execution_count": null,
   "id": "0e752fa1",
   "metadata": {},
   "outputs": [],
   "source": []
  },
  {
   "cell_type": "code",
   "execution_count": 62,
   "id": "f9dbb893",
   "metadata": {},
   "outputs": [],
   "source": [
    "rd = 5\n",
    "model = \"UNCC-hierbin\"\n",
    "predictions = pd.read_csv('2021-05-02-UNCC-hierbin-v5.csv', dtype={'location':str},parse_dates=['target_end_date'])\n",
    "predictions.to_parquet(f'./dat/{model}_rd{rd}.pq', index=False)"
   ]
  },
  {
   "cell_type": "code",
   "execution_count": 42,
   "id": "f0c474f8-b083-4bfb-ad24-f3eedb0930a5",
   "metadata": {},
   "outputs": [],
   "source": [
    "rd = 14\n",
    "models = [\"Ensemble\",\"Ensemble_LOP\",\"Ensemble_LOP_untrimmed\",\"JHU_IDD-CovidSP\",\"MOBS_NEU-GLEAM_COVID\",\n",
    "          \"MOBS_NEU-GLEAM_COVID_OT\",\"NCSU-COVSIM\",\"UNCC-hierbin\",\"USC-SIkJalpha\",\"USC-SIkJalpha-update\",\n",
    "          \"UTA-ImmunoSEIRS\",\"UVA-adaptive\"]\n",
    "dates = ['2022-06-05','2022-06-04']"
   ]
  },
  {
   "cell_type": "code",
   "execution_count": 45,
   "id": "f2167b56",
   "metadata": {},
   "outputs": [],
   "source": [
    "rd = 15\n",
    "models = [\"Ensemble\",\"Ensemble_LOP\",\"Ensemble_LOP_untrimmed\",\"JHU_IDD-CovidSP\",\"MOBS_NEU-GLEAM_COVID\",\n",
    "          \"MOBS_NEU-GLEAM_COVID_OT\",\"NCSU-COVSIM\",\"UNCC-hierbin\",\"USC-SIkJalpha\",\"USC-SIkJalpha-update\",\n",
    "          \"UTA-ImmunoSEIRS\",\"UVA-adaptive\"]\n",
    "dates = ['2022-07-31']"
   ]
  },
  {
   "cell_type": "code",
   "execution_count": 50,
   "id": "aac2d4de",
   "metadata": {},
   "outputs": [],
   "source": [
    "rd = 16\n",
    "models = [\"Ensemble\",\"Ensemble_LOP\",\"Ensemble_LOP_untrimmed\",\"JHU_IDD-CovidSP\",\"MOBS_NEU-GLEAM_COVID\",\n",
    "          \"NCSU-COVSIM\",\"UNCC-hierbin\",\"USC-SIkJalpha\",\n",
    "          \"UTA-ImmunoSEIRS\",\"UVA-adaptive\"]\n",
    "dates = ['2022-10-30']"
   ]
  },
  {
   "cell_type": "code",
   "execution_count": 59,
   "id": "88fd7a49",
   "metadata": {},
   "outputs": [],
   "source": [
    "rd = 13\n",
    "model = \"CU-AGE-ST\"\n",
    "predictions = pd.read_csv('2022-03-13-CU-AGE-ST.csv', dtype={'location':str},parse_dates=['target_end_date'])\n",
    "predictions.to_parquet(f'./dat/{model}_rd{rd}.pq', index=False)"
   ]
  },
  {
   "cell_type": "code",
   "execution_count": null,
   "id": "053486f9",
   "metadata": {},
   "outputs": [],
   "source": []
  },
  {
   "cell_type": "code",
   "execution_count": 61,
   "id": "b6a13468-edea-428f-8c29-1fe897685ce4",
   "metadata": {},
   "outputs": [
    {
     "name": "stdout",
     "output_type": "stream",
     "text": [
      "MOBS_NEU-GLEAM_COVID_OT\n"
     ]
    }
   ],
   "source": [
    "for model in models:\n",
    "    print(model)\n",
    "    predictions = pull_scenario_modeling_hub_predictions(model,dates)\n",
    "    if predictions is not None:\n",
    "        predictions.to_parquet(f'./dat/{model}_rd{rd}.pq', index=False)\n",
    "        # predictions.to_csv(f'./dat/{model}_rd{rd}.csv', index=False)"
   ]
  },
  {
   "cell_type": "markdown",
   "id": "8d2b8f0f-75d1-4905-a4d9-a40865f5e59e",
   "metadata": {},
   "source": [
    "**NOTE**: anything saved in the ```dat``` folder is not going to be tracked by git, to avoid having data on the Github repository. The repository is to track code only."
   ]
  }
 ],
 "metadata": {
  "kernelspec": {
   "display_name": "Python 3 (ipykernel)",
   "language": "python",
   "name": "python3"
  },
  "language_info": {
   "codemirror_mode": {
    "name": "ipython",
    "version": 3
   },
   "file_extension": ".py",
   "mimetype": "text/x-python",
   "name": "python",
   "nbconvert_exporter": "python",
   "pygments_lexer": "ipython3",
   "version": "3.9.12"
  }
 },
 "nbformat": 4,
 "nbformat_minor": 5
}
