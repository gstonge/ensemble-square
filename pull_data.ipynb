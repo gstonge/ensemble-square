{
 "cells": [
  {
   "cell_type": "markdown",
   "id": "98d5c688-641a-435d-b517-a9062e4d0609",
   "metadata": {},
   "source": [
    "# Pull data"
   ]
  },
  {
   "cell_type": "code",
   "execution_count": 21,
   "id": "c8854cf6-4760-473f-a00b-3d620d7e812b",
   "metadata": {},
   "outputs": [],
   "source": [
    "import requests\n",
    "import numpy as np\n",
    "import pandas as pd\n",
    "from epiweeks import Week\n",
    "from datetime import date, timedelta\n",
    "import os"
   ]
  },
  {
   "cell_type": "code",
   "execution_count": 2,
   "id": "41a0db4a-693f-40f3-a77b-a314d834e0a0",
   "metadata": {},
   "outputs": [],
   "source": [
    "def pull_scenario_modeling_hub_predictions(model,dates):\n",
    "    \"\"\"pull_scenario_modeling_hub_predictions. Load predictions of the model saved by the scenario modeling\n",
    "    hub.\n",
    "\n",
    "    Parameters\n",
    "    ----------\n",
    "    model : str\n",
    "        Model name on thhe\n",
    "    dates : list or string\n",
    "        List of potential dates in the iso format, e.g., 'yyyy-mm-dd', for the submission.\n",
    "    \"\"\"\n",
    "    predictions = None\n",
    "    if isinstance(dates,str):\n",
    "        dates = [dates]\n",
    "    for date in dates:\n",
    "        url = f\"https://raw.githubusercontent.com/midas-network/covid19-scenario-modeling-hub/master/data-processed/{model}/{date}-{model}\"\n",
    "        for ext in [\".csv\",\".gz\",\".zip\",\".csv.zip\",\".csv.gz\"]:\n",
    "            try:\n",
    "                predictions = pd.read_csv(url+ext,dtype={'location':str},parse_dates=['target_end_date'])\n",
    "            except:\n",
    "                pass\n",
    "    if predictions is None:\n",
    "        print(f\"Data for model {model} and date {dates} unavailable\")\n",
    "    return predictions\n",
    "\n",
    "\n",
    "def pull_surveillance_data(target='death',incidence=True):\n",
    "    mapping = {'death':'Deaths', 'case':'Cases', 'hospitalization': 'Hospitalizations'}\n",
    "    if incidence:\n",
    "        s = 'Incident'\n",
    "    else:\n",
    "        s = 'Cumulative'\n",
    "    url = f\"https://media.githubusercontent.com/media/reichlab/covid19-forecast-hub/master/data-truth/truth-{s}%20{mapping[target]}.csv\"\n",
    "    return pd.read_csv(url, dtype={'location':str})"
   ]
  },
  {
   "cell_type": "markdown",
   "id": "cbceae3e-6846-4e40-ba0f-561f8eb5f112",
   "metadata": {},
   "source": [
    "## Surveillance data"
   ]
  },
  {
   "cell_type": "code",
   "execution_count": 11,
   "id": "96ae589e-cc09-455f-b897-c0a1dad06adb",
   "metadata": {},
   "outputs": [],
   "source": [
    "target = 'hospitalization'\n",
    "# target = 'death'\n",
    "incidence = True"
   ]
  },
  {
   "cell_type": "code",
   "execution_count": 4,
   "id": "566a1bcd-716f-4101-b744-cf7163aab782",
   "metadata": {},
   "outputs": [],
   "source": [
    "observations = pull_surveillance_data(target,incidence)"
   ]
  },
  {
   "cell_type": "code",
   "execution_count": 16,
   "id": "c5499b17-4920-4ecb-a23b-8c1255b610ae",
   "metadata": {},
   "outputs": [
    {
     "data": {
      "text/html": [
       "<div>\n",
       "<style scoped>\n",
       "    .dataframe tbody tr th:only-of-type {\n",
       "        vertical-align: middle;\n",
       "    }\n",
       "\n",
       "    .dataframe tbody tr th {\n",
       "        vertical-align: top;\n",
       "    }\n",
       "\n",
       "    .dataframe thead th {\n",
       "        text-align: right;\n",
       "    }\n",
       "</style>\n",
       "<table border=\"1\" class=\"dataframe\">\n",
       "  <thead>\n",
       "    <tr style=\"text-align: right;\">\n",
       "      <th></th>\n",
       "      <th>date</th>\n",
       "      <th>location</th>\n",
       "      <th>location_name</th>\n",
       "      <th>value</th>\n",
       "    </tr>\n",
       "  </thead>\n",
       "  <tbody>\n",
       "    <tr>\n",
       "      <th>0</th>\n",
       "      <td>2021-02-11</td>\n",
       "      <td>72</td>\n",
       "      <td>Puerto Rico</td>\n",
       "      <td>12</td>\n",
       "    </tr>\n",
       "    <tr>\n",
       "      <th>1</th>\n",
       "      <td>2021-02-04</td>\n",
       "      <td>05</td>\n",
       "      <td>Arkansas</td>\n",
       "      <td>111</td>\n",
       "    </tr>\n",
       "    <tr>\n",
       "      <th>2</th>\n",
       "      <td>2021-02-01</td>\n",
       "      <td>20</td>\n",
       "      <td>Kansas</td>\n",
       "      <td>78</td>\n",
       "    </tr>\n",
       "    <tr>\n",
       "      <th>3</th>\n",
       "      <td>2021-01-25</td>\n",
       "      <td>27</td>\n",
       "      <td>Minnesota</td>\n",
       "      <td>67</td>\n",
       "    </tr>\n",
       "    <tr>\n",
       "      <th>4</th>\n",
       "      <td>2021-01-19</td>\n",
       "      <td>25</td>\n",
       "      <td>Massachusetts</td>\n",
       "      <td>244</td>\n",
       "    </tr>\n",
       "  </tbody>\n",
       "</table>\n",
       "</div>"
      ],
      "text/plain": [
       "         date location  location_name  value\n",
       "0  2021-02-11       72    Puerto Rico     12\n",
       "1  2021-02-04       05       Arkansas    111\n",
       "2  2021-02-01       20         Kansas     78\n",
       "3  2021-01-25       27      Minnesota     67\n",
       "4  2021-01-19       25  Massachusetts    244"
      ]
     },
     "execution_count": 16,
     "metadata": {},
     "output_type": "execute_result"
    }
   ],
   "source": [
    "observations.head(5)"
   ]
  },
  {
   "cell_type": "markdown",
   "id": "1fbfeebf-7ce9-4868-90c3-11a1b0edc9aa",
   "metadata": {},
   "source": [
    "## Forecast data"
   ]
  },
  {
   "cell_type": "markdown",
   "id": "d572dc3c-b6a9-4aea-9ea2-72096484b667",
   "metadata": {},
   "source": [
    "### Pull a single model"
   ]
  },
  {
   "cell_type": "code",
   "execution_count": 17,
   "id": "4f7be515-6b52-4b70-9581-da45bf3b7851",
   "metadata": {},
   "outputs": [],
   "source": [
    "model = \"MOBS_NEU-GLEAM_COVID\"\n",
    "dates = ['2021-05-01','2021-05-02','2021-05-04'] #potential submission dates\n",
    "predictions = pull_scenario_modeling_hub_predictions(model,dates)"
   ]
  },
  {
   "cell_type": "code",
   "execution_count": 14,
   "id": "7e08cf3a-8f7b-4dcd-9924-d5a613969419",
   "metadata": {},
   "outputs": [
    {
     "data": {
      "text/html": [
       "<div>\n",
       "<style scoped>\n",
       "    .dataframe tbody tr th:only-of-type {\n",
       "        vertical-align: middle;\n",
       "    }\n",
       "\n",
       "    .dataframe tbody tr th {\n",
       "        vertical-align: top;\n",
       "    }\n",
       "\n",
       "    .dataframe thead th {\n",
       "        text-align: right;\n",
       "    }\n",
       "</style>\n",
       "<table border=\"1\" class=\"dataframe\">\n",
       "  <thead>\n",
       "    <tr style=\"text-align: right;\">\n",
       "      <th></th>\n",
       "      <th>target</th>\n",
       "      <th>location</th>\n",
       "      <th>scenario_name</th>\n",
       "      <th>scenario_id</th>\n",
       "      <th>quantile</th>\n",
       "      <th>value</th>\n",
       "      <th>target_end_date</th>\n",
       "      <th>model_projection_date</th>\n",
       "      <th>type</th>\n",
       "    </tr>\n",
       "  </thead>\n",
       "  <tbody>\n",
       "    <tr>\n",
       "      <th>0</th>\n",
       "      <td>1 wk ahead inc death</td>\n",
       "      <td>45</td>\n",
       "      <td>highVac_modNPI</td>\n",
       "      <td>A-2021-05-02</td>\n",
       "      <td>0.01</td>\n",
       "      <td>58.474616</td>\n",
       "      <td>2021-05-08</td>\n",
       "      <td>2021-05-01</td>\n",
       "      <td>quantile</td>\n",
       "    </tr>\n",
       "    <tr>\n",
       "      <th>1</th>\n",
       "      <td>2 wk ahead inc death</td>\n",
       "      <td>45</td>\n",
       "      <td>highVac_modNPI</td>\n",
       "      <td>A-2021-05-02</td>\n",
       "      <td>0.01</td>\n",
       "      <td>47.918443</td>\n",
       "      <td>2021-05-15</td>\n",
       "      <td>2021-05-01</td>\n",
       "      <td>quantile</td>\n",
       "    </tr>\n",
       "    <tr>\n",
       "      <th>2</th>\n",
       "      <td>3 wk ahead inc death</td>\n",
       "      <td>45</td>\n",
       "      <td>highVac_modNPI</td>\n",
       "      <td>A-2021-05-02</td>\n",
       "      <td>0.01</td>\n",
       "      <td>37.881073</td>\n",
       "      <td>2021-05-22</td>\n",
       "      <td>2021-05-01</td>\n",
       "      <td>quantile</td>\n",
       "    </tr>\n",
       "    <tr>\n",
       "      <th>3</th>\n",
       "      <td>4 wk ahead inc death</td>\n",
       "      <td>45</td>\n",
       "      <td>highVac_modNPI</td>\n",
       "      <td>A-2021-05-02</td>\n",
       "      <td>0.01</td>\n",
       "      <td>30.219431</td>\n",
       "      <td>2021-05-29</td>\n",
       "      <td>2021-05-01</td>\n",
       "      <td>quantile</td>\n",
       "    </tr>\n",
       "    <tr>\n",
       "      <th>4</th>\n",
       "      <td>5 wk ahead inc death</td>\n",
       "      <td>45</td>\n",
       "      <td>highVac_modNPI</td>\n",
       "      <td>A-2021-05-02</td>\n",
       "      <td>0.01</td>\n",
       "      <td>23.725748</td>\n",
       "      <td>2021-06-05</td>\n",
       "      <td>2021-05-01</td>\n",
       "      <td>quantile</td>\n",
       "    </tr>\n",
       "  </tbody>\n",
       "</table>\n",
       "</div>"
      ],
      "text/plain": [
       "                 target location   scenario_name   scenario_id  quantile  \\\n",
       "0  1 wk ahead inc death       45  highVac_modNPI  A-2021-05-02      0.01   \n",
       "1  2 wk ahead inc death       45  highVac_modNPI  A-2021-05-02      0.01   \n",
       "2  3 wk ahead inc death       45  highVac_modNPI  A-2021-05-02      0.01   \n",
       "3  4 wk ahead inc death       45  highVac_modNPI  A-2021-05-02      0.01   \n",
       "4  5 wk ahead inc death       45  highVac_modNPI  A-2021-05-02      0.01   \n",
       "\n",
       "       value target_end_date model_projection_date      type  \n",
       "0  58.474616      2021-05-08            2021-05-01  quantile  \n",
       "1  47.918443      2021-05-15            2021-05-01  quantile  \n",
       "2  37.881073      2021-05-22            2021-05-01  quantile  \n",
       "3  30.219431      2021-05-29            2021-05-01  quantile  \n",
       "4  23.725748      2021-06-05            2021-05-01  quantile  "
      ]
     },
     "execution_count": 14,
     "metadata": {},
     "output_type": "execute_result"
    }
   ],
   "source": [
    "predictions.head(5)"
   ]
  },
  {
   "cell_type": "markdown",
   "id": "16adde13-d2ee-4a70-8c52-74b5035cff72",
   "metadata": {},
   "source": [
    "### Pull multiple models and save data"
   ]
  },
  {
   "cell_type": "code",
   "execution_count": 25,
   "id": "403d99e1-30cd-44e1-821e-3459dd4496ce",
   "metadata": {},
   "outputs": [],
   "source": [
    "# rd = 5 #smh round\n",
    "# dates = ['2021-05-01','2021-05-02','2021-05-04'] #potential submission dates\n",
    "# models = [\"Ensemble\",\"Ensemble_LOP\",\"IHME-IHME_COVID_model_deaths_unscaled\",\"JHUAPL-Bucky\",\n",
    "#           \"JHU_IDD-CovidSP\",\"Karlen-pypm\",\"MOBS_NEU-GLEAM_COVID\",\"UNCC-hierbin\",\n",
    "#           \"USC-SIkJalpha\",\"UVA-adaptive\"]"
   ]
  },
  {
   "cell_type": "code",
   "execution_count": 24,
   "id": "984e9267-e425-433a-9b14-10e6a743c406",
   "metadata": {},
   "outputs": [],
   "source": [
    "# rd = 12\n",
    "# models = [\"Ensemble\",\"Ensemble_LOP\",\"Ensemble_LOP_untrimmed\",\"JHU_IDD-CovidSP\",\"MOBS_NEU-GLEAM_COVID\",\n",
    "#           \"NCSU-COVSIM\",\"NotreDame-FRED\",\"UNCC-hierbin\",\"USC-SIkJalpha\",\"UTA-ImmunoSEIRS\",\n",
    "#           \"UVA-EpiHiper\",\"UVA-adaptive\"]\n",
    "# dates = ['2022-01-09']"
   ]
  },
  {
   "cell_type": "code",
   "execution_count": 26,
   "id": "f0c474f8-b083-4bfb-ad24-f3eedb0930a5",
   "metadata": {},
   "outputs": [],
   "source": [
    "rd = 14\n",
    "models = [\"Ensemble\",\"Ensemble_LOP\",\"Ensemble_LOP_untrimmed\",\"JHU_IDD-CovidSP\",\"MOBS_NEU-GLEAM_COVID\",\n",
    "          \"MOBS_NEU-GLEAM_COVID_OT\",\"NCSU-COVSIM\",\"UNCC-hierbin\",\"USC-SIkJalpha\",\"USC-SIkJalpha-update\",\n",
    "          \"UTA-ImmunoSEIRS\",\"UVA-adaptive\"]\n",
    "dates = ['2022-06-05','2022-06-04']"
   ]
  },
  {
   "cell_type": "code",
   "execution_count": 28,
   "id": "b6a13468-edea-428f-8c29-1fe897685ce4",
   "metadata": {},
   "outputs": [
    {
     "name": "stdout",
     "output_type": "stream",
     "text": [
      "Ensemble\n",
      "Ensemble_LOP\n",
      "Ensemble_LOP_untrimmed\n",
      "JHU_IDD-CovidSP\n",
      "MOBS_NEU-GLEAM_COVID\n",
      "MOBS_NEU-GLEAM_COVID_OT\n",
      "NCSU-COVSIM\n",
      "UNCC-hierbin\n",
      "Data for model UNCC-hierbin and date ['2022-06-05', '2022-06-04'] unavailable\n",
      "USC-SIkJalpha\n",
      "USC-SIkJalpha-update\n",
      "UTA-ImmunoSEIRS\n",
      "UVA-adaptive\n"
     ]
    }
   ],
   "source": [
    "for model in models:\n",
    "    print(model)\n",
    "    predictions = pull_scenario_modeling_hub_predictions(model,dates)\n",
    "    if predictions is not None:\n",
    "        predictions.to_parquet(f'./dat/{model}_rd{rd}.pq', index=False)\n",
    "        # predictions.to_csv(f'./dat/{model}_rd{rd}.csv', index=False)"
   ]
  },
  {
   "cell_type": "markdown",
   "id": "8d2b8f0f-75d1-4905-a4d9-a40865f5e59e",
   "metadata": {},
   "source": [
    "**NOTE**: anything saved in the ```dat``` folder is not going to be tracked by git, to avoid having data on the Github repository. The repository is to track code only."
   ]
  }
 ],
 "metadata": {
  "kernelspec": {
   "display_name": "Python 3 (ipykernel)",
   "language": "python",
   "name": "python3"
  },
  "language_info": {
   "codemirror_mode": {
    "name": "ipython",
    "version": 3
   },
   "file_extension": ".py",
   "mimetype": "text/x-python",
   "name": "python",
   "nbconvert_exporter": "python",
   "pygments_lexer": "ipython3",
   "version": "3.10.5"
  }
 },
 "nbformat": 4,
 "nbformat_minor": 5
}
